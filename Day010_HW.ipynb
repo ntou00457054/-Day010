{
 "cells": [
  {
   "cell_type": "markdown",
   "metadata": {},
   "source": [
    "# 其他工具：Grab、PyQuery\n",
    "\n",
    "\n",
    "* 利用 Grab 套件的存取 HTML 資源\n",
    "* 利用 PyQuery 套件的解析 HTML 格式\n"
   ]
  },
  {
   "cell_type": "markdown",
   "metadata": {},
   "source": [
    "## 作業目標\n",
    "\n",
    "將之前用 requests + beatifulsoup 實作的方式，改寫成 grab + pyquery，並且比較有哪些地方不同。\n",
    "\n",
    "\n",
    "\n"
   ]
  },
  {
   "cell_type": "markdown",
   "metadata": {},
   "source": [
    "## requests + BeautifulSoup\n"
   ]
  },
  {
   "cell_type": "code",
   "execution_count": 26,
   "metadata": {},
   "outputs": [
    {
     "name": "stdout",
     "output_type": "stream",
     "text": [
      "Save image downloads/Cgb5oo1.jpeg\n",
      "Save image downloads/MgjHY4f.jpeg\n",
      "Save image downloads/yeoRtAs.jpeg\n",
      "Save image downloads/wsauNEW.jpeg\n",
      "Save image downloads/IjiETcs.jpeg\n"
     ]
    }
   ],
   "source": [
    "#作業9\n",
    "import requests\n",
    "import os\n",
    "\n",
    "from bs4 import BeautifulSoup\n",
    "from PIL import Image\n",
    "\n",
    "url = 'https://www.ptt.cc/bbs/Beauty/M.1556291059.A.75A.html'\n",
    "resp = requests.get(url, cookies={'over18': '1'})\n",
    "soup = BeautifulSoup(resp.text)\n",
    "# 決定要儲存的資料夾\n",
    "output_dir = 'downloads'\n",
    "\n",
    "# 假如資料夾不存在就新增一個資料夾\n",
    "if not os.path.exists(output_dir):\n",
    "    os.makedirs(output_dir)\n",
    "\n",
    "# 定位所有圖片的 tag\n",
    "image_tags = soup.find(id='main-content').findChildren('a',recursive=False)#圖片連結在id is main_content下一層的a tag\n",
    "for image_tag in image_tags:\n",
    "    # 取得所有圖片在第三方服務的 id\n",
    "    if 'imgur' not in image_tag['href']: #迴圈過濾掉沒有imgur字眼的連結，圖片連結的共通點\n",
    "        continue\n",
    "    img_id = image_tag['href'].split('/')[-1] #連結的id放最後一項\n",
    "    \n",
    "    # 組合圖片而非網站的網址\n",
    "    img_url = 'https://imgur.com/{}.jpg' .format(img_id)#組合成每張圖片的url，要加副檔名才是完整連結\n",
    "    # 對圖片送出請求\n",
    "    with requests.get(img_url,stream=True) as r: #with為呼叫套件模組\n",
    "        r.raise_for_status()\n",
    "        image = Image.open(r.raw)#用PIL套件打開raw image\n",
    "        image_savename =  '{outdir}/{img_id}.{img_ext}'.format(outdir=output_dir,img_id = img_id,img_ext = image.format.lower())\n",
    "        image.save(image_savename)#塞入存取路徑\n",
    "        print('Save image {}'.format(image_savename))"
   ]
  },
  {
   "cell_type": "markdown",
   "metadata": {},
   "source": [
    "## Grab + PyQuery"
   ]
  },
  {
   "cell_type": "code",
   "execution_count": 58,
   "metadata": {
    "scrolled": false
   },
   "outputs": [
    {
     "ename": "AttributeError",
     "evalue": "'Document' object has no attribute 'raw'",
     "output_type": "error",
     "traceback": [
      "\u001b[1;31m---------------------------------------------------------------------------\u001b[0m",
      "\u001b[1;31mAttributeError\u001b[0m                            Traceback (most recent call last)",
      "\u001b[1;32m<ipython-input-58-6eed0a665f4b>\u001b[0m in \u001b[0;36m<module>\u001b[1;34m\u001b[0m\n\u001b[0;32m     22\u001b[0m     \u001b[0mgg\u001b[0m \u001b[1;33m=\u001b[0m \u001b[0mgr\u001b[0m\u001b[1;33m.\u001b[0m\u001b[0mgo\u001b[0m\u001b[1;33m(\u001b[0m\u001b[0mimg_url\u001b[0m\u001b[1;33m)\u001b[0m \u001b[1;31m#有header 可以用setup(headers=?)表示，有偵測是否有response\u001b[0m\u001b[1;33m\u001b[0m\u001b[1;33m\u001b[0m\u001b[0m\n\u001b[0;32m     23\u001b[0m     \u001b[0mresp\u001b[0m \u001b[1;33m=\u001b[0m \u001b[0mgg\u001b[0m\u001b[1;33m.\u001b[0m\u001b[0mbody\u001b[0m\u001b[1;33m\u001b[0m\u001b[1;33m\u001b[0m\u001b[0m\n\u001b[1;32m---> 24\u001b[1;33m     \u001b[0mimage\u001b[0m \u001b[1;33m=\u001b[0m \u001b[0mImage\u001b[0m\u001b[1;33m.\u001b[0m\u001b[0mopen\u001b[0m\u001b[1;33m(\u001b[0m\u001b[0mgg\u001b[0m\u001b[1;33m.\u001b[0m\u001b[0mraw\u001b[0m\u001b[1;33m)\u001b[0m\u001b[1;31m#用PIL套件打開raw image\u001b[0m\u001b[1;33m\u001b[0m\u001b[1;33m\u001b[0m\u001b[0m\n\u001b[0m\u001b[0;32m     25\u001b[0m \u001b[1;33m\u001b[0m\u001b[0m\n\u001b[0;32m     26\u001b[0m \u001b[1;33m\u001b[0m\u001b[0m\n",
      "\u001b[1;31mAttributeError\u001b[0m: 'Document' object has no attribute 'raw'"
     ]
    }
   ],
   "source": [
    "from grab import Grab\n",
    "from pyquery import PyQuery as pq\n",
    "\n",
    "g = Grab()\n",
    "g_resp =g.go(url,cookies={'over18': '1'})\n",
    "#doc = pq(g_resp.body)\n",
    "doc = pq(url,cookies={'over18': '1'})#1.pyquery可不用通過requests(http client) or grab抓取資料，先看有無api，再用urllib\n",
    "output_dir2 = 'downloads2'\n",
    "\n",
    "if not os.path.exists(output_dir2):\n",
    "    os.makedirs(output_dir2)\n",
    "# 定位所有圖片的 tag\n",
    "image_tags = doc('#main-content').children('a').items()#圖片連結在id is main_content下一層的a tag，items表示為list\n",
    "for i in image_tags:\n",
    "    if 'imgur' not in image_tag['href']: #迴圈過濾掉沒有imgur字眼的連結，圖片連結的共通點\n",
    "        continue\n",
    "    img_id = i.attr('href').split('/')[-1]\n",
    "        # 組合圖片而非網站的網址\n",
    "    img_url = 'https://imgur.com/{}.jpg' .format(img_id)#組合成每張圖片的url，要加副檔名才是完整連結\n",
    "    gr = Grab()\n",
    "    #with為呼叫套件模組\n",
    "    gg = gr.go(img_url) #有header 可以用setup(headers=?)表示，有偵測是否有response\n",
    "    resp = gg.body\n",
    "    image = Image.open(gg.raw)#用PIL套件打開raw image\n",
    "    \n",
    "        \n",
    "        \n",
    "        \n",
    "\n",
    "        \n",
    "\n",
    "    \n"
   ]
  },
  {
   "cell_type": "code",
   "execution_count": null,
   "metadata": {},
   "outputs": [],
   "source": []
  },
  {
   "cell_type": "code",
   "execution_count": null,
   "metadata": {},
   "outputs": [],
   "source": []
  }
 ],
 "metadata": {
  "kernelspec": {
   "display_name": "Python 3",
   "language": "python",
   "name": "python3"
  },
  "language_info": {
   "codemirror_mode": {
    "name": "ipython",
    "version": 3
   },
   "file_extension": ".py",
   "mimetype": "text/x-python",
   "name": "python",
   "nbconvert_exporter": "python",
   "pygments_lexer": "ipython3",
   "version": "3.7.4"
  }
 },
 "nbformat": 4,
 "nbformat_minor": 2
}
